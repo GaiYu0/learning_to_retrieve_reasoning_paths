{
 "cells": [
  {
   "cell_type": "code",
   "execution_count": 147,
   "metadata": {},
   "outputs": [],
   "source": [
    "import graph_tool as gt\n",
    "from graph_tool.spectral import adjacency\n",
    "from graph_tool.topology import shortest_distance\n",
    "import matplotlib.pylab as pl\n",
    "%matplotlib inline\n",
    "import numpy as np\n",
    "import numpy.random as npr\n",
    "import scipy.sparse as sps\n",
    "import tqdm"
   ]
  },
  {
   "cell_type": "code",
   "execution_count": 148,
   "metadata": {},
   "outputs": [],
   "source": [
    "src = np.load('models/hotpot_models/src.npy')\n",
    "dst = np.load('models/hotpot_models/dst.npy')\n",
    "n_vertices = max(src.max(), dst.max()) + 1\n",
    "g = gt.Graph(directed=False)\n",
    "g.add_vertex(n_vertices)\n",
    "g.add_edge_list(np.vstack([src, dst]).T)\n",
    "a = adjacency(g)"
   ]
  },
  {
   "cell_type": "code",
   "execution_count": 18,
   "metadata": {},
   "outputs": [
    {
     "data": {
      "text/plain": [
       "(189431.0, 189431.0)"
      ]
     },
     "execution_count": 18,
     "metadata": {},
     "output_type": "execute_result"
    }
   ],
   "source": [
    "a.sum(0).max(), a.sum(1).max()"
   ]
  },
  {
   "cell_type": "code",
   "execution_count": 22,
   "metadata": {},
   "outputs": [],
   "source": [
    "from multiprocessing import Pool\n",
    "from multiprocessing.pool import ThreadPool\n",
    "from functools import partial"
   ]
  },
  {
   "cell_type": "code",
   "execution_count": 40,
   "metadata": {},
   "outputs": [
    {
     "name": "stderr",
     "output_type": "stream",
     "text": [
      "7405it [05:41, 21.68it/s]\n"
     ]
    }
   ],
   "source": [
    "dists = [shortest_distance(g, u, v, directed=False, max_dist=10) for u, v in tqdm.tqdm(zip(gold0, gold1))]"
   ]
  },
  {
   "cell_type": "code",
   "execution_count": null,
   "metadata": {},
   "outputs": [],
   "source": [
    "with ThreadPool() as pool:\n",
    "    dists = list(tqdm.tqdm(pool.starmap(partial(shortest_distance, g, directed=False, max_dist=10), zip(gold0, gold1))))"
   ]
  },
  {
   "cell_type": "code",
   "execution_count": 44,
   "metadata": {},
   "outputs": [],
   "source": [
    "_dists = np.array(dists)"
   ]
  },
  {
   "cell_type": "code",
   "execution_count": 51,
   "metadata": {},
   "outputs": [
    {
     "data": {
      "text/plain": [
       "(1, 2147483647, 5.0)"
      ]
     },
     "execution_count": 51,
     "metadata": {},
     "output_type": "execute_result"
    }
   ],
   "source": [
    "_dists.min(), _dists.max(), np.quantile(_dists, 0.99)"
   ]
  },
  {
   "cell_type": "code",
   "execution_count": 84,
   "metadata": {},
   "outputs": [],
   "source": [
    "nz, = np.nonzero(degree > np.quantile(degree, 0.995))"
   ]
  },
  {
   "cell_type": "code",
   "execution_count": 125,
   "metadata": {},
   "outputs": [
    {
     "data": {
      "text/plain": [
       "82.0"
      ]
     },
     "execution_count": 125,
     "metadata": {},
     "output_type": "execute_result"
    }
   ],
   "source": [
    "np.quantile(degree, 0.995)"
   ]
  },
  {
   "cell_type": "code",
   "execution_count": 150,
   "metadata": {},
   "outputs": [
    {
     "data": {
      "text/plain": [
       "(45.0, 187315.0)"
      ]
     },
     "execution_count": 150,
     "metadata": {},
     "output_type": "execute_result"
    }
   ],
   "source": [
    "a = adjacency(g).minimum(1)\n",
    "d = np.asarray(a.sum(0)).squeeze().astype(np.int)\n",
    "gt = d > np.quantile(d, 0.99)\n",
    "a.data[gt.repeat(d)] = 0\n",
    "a.eliminate_zeros()\n",
    "a = a.transpose()\n",
    "a.sum(0).max(), a.sum(1).max()"
   ]
  },
  {
   "cell_type": "code",
   "execution_count": 69,
   "metadata": {},
   "outputs": [
    {
     "data": {
      "image/png": "[encoded data removed]",
      "text/plain": [
       "<Figure size 432x288 with 1 Axes>"
      ]
     },
     "metadata": {
      "needs_background": "light"
     },
     "output_type": "display_data"
    }
   ],
   "source": [
    "_ = pl.hist(degree[degree < 20], bins=20, density=True)"
   ]
  },
  {
   "cell_type": "code",
   "execution_count": 56,
   "metadata": {},
   "outputs": [
    {
     "data": {
      "image/png": "[encoded data removed]",
      "text/plain": [
       "<Figure size 432x288 with 1 Axes>"
      ]
     },
     "metadata": {
      "needs_background": "light"
     },
     "output_type": "display_data"
    }
   ],
   "source": [
    "_ = pl.hist(_dists[_dists < 10], density=True)"
   ]
  },
  {
   "cell_type": "code",
   "execution_count": 115,
   "metadata": {},
   "outputs": [],
   "source": [
    "gold0 = np.load('models/hotpot_models/gold0.npy')\n",
    "gold1 = np.load('models/hotpot_models/gold1.npy')\n",
    "data = np.ones(len(gold0))\n",
    "indptr = np.arange(len(gold0) + 1)\n",
    "_gold0 = sps.csr_matrix((data, gold0, indptr), shape=(len(gold0), n_vertices)).transpose()\n",
    "_gold1 = sps.csr_matrix((data, gold1, indptr), shape=(len(gold1), n_vertices)).transpose()\n",
    "gold = _gold0 + _gold1"
   ]
  },
  {
   "cell_type": "code",
   "execution_count": 20,
   "metadata": {},
   "outputs": [],
   "source": [
    "k = 10\n",
    "indices = np.load('models/hotpot_models/top%d_indices.npy' % k)\n",
    "indptr = np.arange(0, len(indices) + 1, k)\n",
    "data = np.ones_like(indices)\n",
    "topk = sps.csr_matrix((data, indices, indptr), shape=(len(indices) // k, n_vertices)).transpose()"
   ]
  },
  {
   "cell_type": "code",
   "execution_count": 39,
   "metadata": {},
   "outputs": [
    {
     "data": {
      "text/plain": [
       "(array([0., 1., 2.]), array([0.156921  , 0.55881161, 0.28426739]))"
      ]
     },
     "execution_count": 39,
     "metadata": {},
     "output_type": "execute_result"
    }
   ],
   "source": [
    "unique, counts = np.unique(np.asarray(topk.multiply(gold).sum(0)), return_counts=True)\n",
    "unique, counts / len(gold0)"
   ]
  },
  {
   "cell_type": "code",
   "execution_count": 153,
   "metadata": {},
   "outputs": [
    {
     "name": "stdout",
     "output_type": "stream",
     "text": [
      "1-hop 46.0 [0. 1. 2.] [0.20459149 0.2221472  0.57326131]\n",
      "2-hop 302.0 [0. 1. 2.] [0.01634031 0.1027684  0.88089129]\n",
      "3-hop 1986.5999999999985 [0. 1. 2.] [0.01634031 0.101553   0.88210668]\n"
     ]
    }
   ],
   "source": [
    "visited = sps.csr_matrix(frontier.shape)\n",
    "# frontier = _gold0; target = _gold1\n",
    "# frontier = _gold1; target = _gold0\n",
    "frontier = gold; target = gold\n",
    "# frontier = topk; target = _gold0\n",
    "# frontier = topk; target = _gold1\n",
    "# frontier = visited = topk; target = gold\n",
    "for i in range(3):\n",
    "    frontier = a @ frontier\n",
    "    frontier.data = np.ones_like(frontier.data) * (npr.rand(len(frontier.data)) <= 1)\n",
    "    frontier.eliminate_zeros()\n",
    "    visited = frontier + visited\n",
    "    visited = visited.minimum(1)\n",
    "    unique, counts = np.unique(np.asarray(target.multiply(visited).sum(0)), return_counts=True)\n",
    "    print(f'{i + 1}-hop', np.quantile(visited.sum(0), 0.95), unique, counts / len(gold0))"
   ]
  },
  {
   "cell_type": "markdown",
   "metadata": {},
   "source": [
    "1-hop 82.0 [0. 1.] [0.20823768 0.79176232]\n",
    "2-hop 1367.0 [0. 1.] [0.2055368 0.7944632]\n",
    "3-hop 10233.0 [0. 1.] [0.20108035 0.79891965]\n",
    "4-hop 59494.0 [0. 1.] [0.18176907 0.81823093]\n",
    "5-hop 278929.0 [0. 1.] [0.15381499 0.84618501]"
   ]
  }
 ],
 "metadata": {
  "kernelspec": {
   "display_name": "Python 3",
   "language": "python",
   "name": "python3"
  },
  "language_info": {
   "codemirror_mode": {
    "name": "ipython",
    "version": 3
   },
   "file_extension": ".py",
   "mimetype": "text/x-python",
   "name": "python",
   "nbconvert_exporter": "python",
   "pygments_lexer": "ipython3",
   "version": "3.8.2"
  }
 },
 "nbformat": 4,
 "nbformat_minor": 4
}
